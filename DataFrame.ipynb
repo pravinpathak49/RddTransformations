{
 "cells": [
  {
   "cell_type": "code",
   "execution_count": 47,
   "metadata": {},
   "outputs": [],
   "source": [
    "#DataFrame are RDD with schema on it.\n",
    "#It can be created by various method\n",
    "#[reading textdata from files]\n",
    "#[reading data from Hive , mysql over jdbc, +more]\n",
    "from pyspark.sql import SparkSession\n",
    "#spark = SparkSession.builder.appName('DF Introduction').getOrCreate()\n",
    "spark = SparkSession \\\n",
    "    .builder \\\n",
    "    .appName(\"Python Spark SQL Hive integration example\") \\\n",
    "    .config(\"spark.sql.warehouse.dir\", '/user/hive/warehouse') \\\n",
    "    .enableHiveSupport() \\\n",
    "    .getOrCreate()\n"
   ]
  },
  {
   "cell_type": "code",
   "execution_count": 229,
   "metadata": {},
   "outputs": [],
   "source": [
    "#orders = spark.read.table('orders')\n",
    "#orders = spark.sql('select * from orders')"
   ]
  },
  {
   "cell_type": "code",
   "execution_count": 54,
   "metadata": {},
   "outputs": [
    {
     "name": "stdout",
     "output_type": "stream",
     "text": [
      "root\n",
      " |-- _c0: string (nullable = true)\n",
      " |-- _c1: string (nullable = true)\n",
      " |-- _c2: string (nullable = true)\n",
      " |-- _c3: string (nullable = true)\n",
      "\n"
     ]
    }
   ],
   "source": [
    "df1 = spark.read.csv('/home/hduser/Documents/RddTransformations/Data/orders.csv')\n",
    "df1.printSchema()\n",
    "df1.toDF()\n",
    "#default it will create it's own schema string as default data type and _c0, _c1 as default column name"
   ]
  },
  {
   "cell_type": "code",
   "execution_count": 101,
   "metadata": {},
   "outputs": [
    {
     "name": "stdout",
     "output_type": "stream",
     "text": [
      "root\n",
      " |-- order_id: integer (nullable = true)\n",
      " |-- order_date: timestamp (nullable = true)\n",
      " |-- customer_id: integer (nullable = true)\n",
      " |-- order_status: string (nullable = true)\n",
      "\n"
     ]
    }
   ],
   "source": [
    "df1 = spark.read.csv('/home/hduser/Documents/RddTransformations/Data/orders.csv').toDF('order_id','order_date','customer_id','order_status')\n",
    "#df1 = spark.read.csv('/home/hduser/Documents/RddTransformations/Data/orders.csv',inferSchema= True).toDF('order_id','order_date','customer_id','order_status')\n",
    "\n",
    "df1.printSchema()"
   ]
  },
  {
   "cell_type": "code",
   "execution_count": 56,
   "metadata": {},
   "outputs": [
    {
     "name": "stdout",
     "output_type": "stream",
     "text": [
      "+--------+-------------------+\n",
      "|order_id|         order_date|\n",
      "+--------+-------------------+\n",
      "|       1|2013-07-25 00:00:00|\n",
      "|       2|2013-07-25 00:00:00|\n",
      "|       3|2013-07-25 00:00:00|\n",
      "|       4|2013-07-25 00:00:00|\n",
      "|       5|2013-07-25 00:00:00|\n",
      "|       6|2013-07-25 00:00:00|\n",
      "|       7|2013-07-25 00:00:00|\n",
      "|       8|2013-07-25 00:00:00|\n",
      "|       9|2013-07-25 00:00:00|\n",
      "|      10|2013-07-25 00:00:00|\n",
      "|      11|2013-07-25 00:00:00|\n",
      "|      12|2013-07-25 00:00:00|\n",
      "|      13|2013-07-25 00:00:00|\n",
      "|      14|2013-07-25 00:00:00|\n",
      "|      15|2013-07-25 00:00:00|\n",
      "|      16|2013-07-25 00:00:00|\n",
      "|      17|2013-07-25 00:00:00|\n",
      "|      18|2013-07-25 00:00:00|\n",
      "|      19|2013-07-25 00:00:00|\n",
      "|      20|2013-07-25 00:00:00|\n",
      "+--------+-------------------+\n",
      "only showing top 20 rows\n",
      "\n"
     ]
    }
   ],
   "source": [
    "df1.select('order_id','order_date').show()"
   ]
  },
  {
   "cell_type": "code",
   "execution_count": 57,
   "metadata": {},
   "outputs": [
    {
     "data": {
      "text/plain": [
       "DataFrame[summary: string, order_id: string, order_date: string, customer_id: string, order_status: string]"
      ]
     },
     "execution_count": 57,
     "metadata": {},
     "output_type": "execute_result"
    }
   ],
   "source": [
    "df1.describe()"
   ]
  },
  {
   "cell_type": "code",
   "execution_count": 58,
   "metadata": {},
   "outputs": [
    {
     "name": "stdout",
     "output_type": "stream",
     "text": [
      "+-------+------------------+-------------------+-----------------+---------------+\n",
      "|summary|          order_id|         order_date|      customer_id|   order_status|\n",
      "+-------+------------------+-------------------+-----------------+---------------+\n",
      "|  count|             68883|              68883|            68883|          68883|\n",
      "|   mean|           34442.0|               null|6216.571098819738|           null|\n",
      "| stddev|19884.953633337947|               null|3586.205241263963|           null|\n",
      "|    min|                 1|2013-07-25 00:00:00|                1|       CANCELED|\n",
      "|    max|              9999|2014-07-24 00:00:00|             9999|SUSPECTED_FRAUD|\n",
      "+-------+------------------+-------------------+-----------------+---------------+\n",
      "\n"
     ]
    }
   ],
   "source": [
    "df1.describe().show()\n",
    "#give the metris about the data"
   ]
  },
  {
   "cell_type": "code",
   "execution_count": 230,
   "metadata": {},
   "outputs": [],
   "source": [
    "#How to change the data types of columns in dataFrame. \n",
    "#df1 all columns are string but order_id and customer_id are integer. We can change this using \n",
    "#withColumn(\"column_name\", df.column_name.cast(DoubleType())\n",
    "from pyspark.sql.types import IntegerType\n",
    "#dftyped = df1. \\\n",
    "#            withColumn('order_id', df1.order_id.cast(IntegerType())). \\\n",
    "#            withColumn('customer_id', df1.customer_id.cast(IntegerType()))\n",
    "\n",
    "#or we can predefine schema and apply while reading\n",
    "\n",
    "schema = StructType([StructField(\"order_id\", IntegerType()),StructField(\"order_date\", StringType()), StructField(\"customer_id\", IntegerType()),StructField(\"order_status\", StringType())])\n",
    "# Finally, we create the dataframe with previous variables\n",
    "# Also we can specifying the separator with 'sep' (default separator for CSV is ',')\n",
    "orderDF = spark.read.csv(path='/home/hduser/Documents/RddTransformations/Data/orders.csv', sep=\",\", schema=schema)"
   ]
  },
  {
   "cell_type": "code",
   "execution_count": 82,
   "metadata": {},
   "outputs": [
    {
     "name": "stdout",
     "output_type": "stream",
     "text": [
      "root\n",
      " |-- order_id: integer (nullable = true)\n",
      " |-- order_date: string (nullable = true)\n",
      " |-- customer_id: integer (nullable = true)\n",
      " |-- order_status: string (nullable = true)\n",
      "\n"
     ]
    }
   ],
   "source": [
    "#since now two columns are integertype and DataTypes are in pyspark.sql.types library\n",
    "dftyped.printSchema()"
   ]
  },
  {
   "cell_type": "code",
   "execution_count": 102,
   "metadata": {},
   "outputs": [],
   "source": [
    "#Read data from hive spark.read.table(dbname.table)\n",
    "#order_items = spark.read.table('order_items')"
   ]
  },
  {
   "cell_type": "code",
   "execution_count": 104,
   "metadata": {},
   "outputs": [],
   "source": [
    "from pyspark.sql.functions import *\n",
    "#These can be categorised into String manipulation, Date manipulation, Type casting, Expression such as case when"
   ]
  },
  {
   "cell_type": "code",
   "execution_count": 61,
   "metadata": {},
   "outputs": [
    {
     "name": "stdout",
     "output_type": "stream",
     "text": [
      "+--------+-------------------+-----------+---------------+\n",
      "|order_id|         order_date|customer_id|   order_status|\n",
      "+--------+-------------------+-----------+---------------+\n",
      "|       1|2013-07-25 00:00:00|      11599|         CLOSED|\n",
      "|       2|2013-07-25 00:00:00|        256|PENDING_PAYMENT|\n",
      "|       3|2013-07-25 00:00:00|      12111|       COMPLETE|\n",
      "|       4|2013-07-25 00:00:00|       8827|         CLOSED|\n",
      "|       5|2013-07-25 00:00:00|      11318|       COMPLETE|\n",
      "|       6|2013-07-25 00:00:00|       7130|       COMPLETE|\n",
      "|       7|2013-07-25 00:00:00|       4530|       COMPLETE|\n",
      "|       8|2013-07-25 00:00:00|       2911|     PROCESSING|\n",
      "|       9|2013-07-25 00:00:00|       5657|PENDING_PAYMENT|\n",
      "|      10|2013-07-25 00:00:00|       5648|PENDING_PAYMENT|\n",
      "|      11|2013-07-25 00:00:00|        918| PAYMENT_REVIEW|\n",
      "|      12|2013-07-25 00:00:00|       1837|         CLOSED|\n",
      "|      13|2013-07-25 00:00:00|       9149|PENDING_PAYMENT|\n",
      "|      14|2013-07-25 00:00:00|       9842|     PROCESSING|\n",
      "|      15|2013-07-25 00:00:00|       2568|       COMPLETE|\n",
      "|      16|2013-07-25 00:00:00|       7276|PENDING_PAYMENT|\n",
      "|      17|2013-07-25 00:00:00|       2667|       COMPLETE|\n",
      "|      18|2013-07-25 00:00:00|       1205|         CLOSED|\n",
      "|      19|2013-07-25 00:00:00|       9488|PENDING_PAYMENT|\n",
      "|      20|2013-07-25 00:00:00|       9198|     PROCESSING|\n",
      "+--------+-------------------+-----------+---------------+\n",
      "only showing top 20 rows\n",
      "\n"
     ]
    }
   ],
   "source": [
    "dftyped.show()"
   ]
  },
  {
   "cell_type": "code",
   "execution_count": 64,
   "metadata": {},
   "outputs": [
    {
     "name": "stdout",
     "output_type": "stream",
     "text": [
      "+---------+\n",
      "|orderDate|\n",
      "+---------+\n",
      "|  2013-07|\n",
      "|  2013-07|\n",
      "|  2013-07|\n",
      "|  2013-07|\n",
      "|  2013-07|\n",
      "|  2013-07|\n",
      "|  2013-07|\n",
      "|  2013-07|\n",
      "|  2013-07|\n",
      "|  2013-07|\n",
      "|  2013-07|\n",
      "|  2013-07|\n",
      "|  2013-07|\n",
      "|  2013-07|\n",
      "|  2013-07|\n",
      "|  2013-07|\n",
      "|  2013-07|\n",
      "|  2013-07|\n",
      "|  2013-07|\n",
      "|  2013-07|\n",
      "+---------+\n",
      "only showing top 20 rows\n",
      "\n"
     ]
    }
   ],
   "source": [
    "dftyped.select(substring(dftyped.order_date, 1,7).alias('orderDate')).show()"
   ]
  },
  {
   "cell_type": "code",
   "execution_count": 72,
   "metadata": {},
   "outputs": [
    {
     "name": "stdout",
     "output_type": "stream",
     "text": [
      "+---------------+\n",
      "|   order_status|\n",
      "+---------------+\n",
      "|         closed|\n",
      "|pending_payment|\n",
      "|       complete|\n",
      "|         closed|\n",
      "|       complete|\n",
      "|       complete|\n",
      "|       complete|\n",
      "|     processing|\n",
      "|pending_payment|\n",
      "|pending_payment|\n",
      "| payment_review|\n",
      "|         closed|\n",
      "|pending_payment|\n",
      "|     processing|\n",
      "|       complete|\n",
      "|pending_payment|\n",
      "|       complete|\n",
      "|         closed|\n",
      "|pending_payment|\n",
      "|     processing|\n",
      "+---------------+\n",
      "only showing top 20 rows\n",
      "\n"
     ]
    }
   ],
   "source": [
    "dftyped.select(lower(dftyped.order_status).alias('order_status')).show()\n",
    "#it will only show that columnwith select function"
   ]
  },
  {
   "cell_type": "code",
   "execution_count": 71,
   "metadata": {},
   "outputs": [
    {
     "name": "stdout",
     "output_type": "stream",
     "text": [
      "+--------+-------------------+-----------+---------------+\n",
      "|order_id|         order_date|customer_id|   order_status|\n",
      "+--------+-------------------+-----------+---------------+\n",
      "|       1|2013-07-25 00:00:00|      11599|         closed|\n",
      "|       2|2013-07-25 00:00:00|        256|pending_payment|\n",
      "|       3|2013-07-25 00:00:00|      12111|       complete|\n",
      "|       4|2013-07-25 00:00:00|       8827|         closed|\n",
      "|       5|2013-07-25 00:00:00|      11318|       complete|\n",
      "|       6|2013-07-25 00:00:00|       7130|       complete|\n",
      "|       7|2013-07-25 00:00:00|       4530|       complete|\n",
      "|       8|2013-07-25 00:00:00|       2911|     processing|\n",
      "|       9|2013-07-25 00:00:00|       5657|pending_payment|\n",
      "|      10|2013-07-25 00:00:00|       5648|pending_payment|\n",
      "|      11|2013-07-25 00:00:00|        918| payment_review|\n",
      "|      12|2013-07-25 00:00:00|       1837|         closed|\n",
      "|      13|2013-07-25 00:00:00|       9149|pending_payment|\n",
      "|      14|2013-07-25 00:00:00|       9842|     processing|\n",
      "|      15|2013-07-25 00:00:00|       2568|       complete|\n",
      "|      16|2013-07-25 00:00:00|       7276|pending_payment|\n",
      "|      17|2013-07-25 00:00:00|       2667|       complete|\n",
      "|      18|2013-07-25 00:00:00|       1205|         closed|\n",
      "|      19|2013-07-25 00:00:00|       9488|pending_payment|\n",
      "|      20|2013-07-25 00:00:00|       9198|     processing|\n",
      "+--------+-------------------+-----------+---------------+\n",
      "only showing top 20 rows\n",
      "\n"
     ]
    }
   ],
   "source": [
    "dftyped.withColumn('order_status', lower(dftyped.order_status)).show()\n",
    "\n",
    "#withColumn will show all the other columns along with the processed column"
   ]
  },
  {
   "cell_type": "code",
   "execution_count": 75,
   "metadata": {},
   "outputs": [
    {
     "name": "stdout",
     "output_type": "stream",
     "text": [
      "+--------+----------+-----------+---------------+\n",
      "|order_id|order_date|customer_id|   order_status|\n",
      "+--------+----------+-----------+---------------+\n",
      "|       1|    201307|      11599|         closed|\n",
      "|       2|    201307|        256|pending_payment|\n",
      "|       3|    201307|      12111|       complete|\n",
      "|       4|    201307|       8827|         closed|\n",
      "|       5|    201307|      11318|       complete|\n",
      "|       6|    201307|       7130|       complete|\n",
      "|       7|    201307|       4530|       complete|\n",
      "|       8|    201307|       2911|     processing|\n",
      "|       9|    201307|       5657|pending_payment|\n",
      "|      10|    201307|       5648|pending_payment|\n",
      "|      11|    201307|        918| payment_review|\n",
      "|      12|    201307|       1837|         closed|\n",
      "|      13|    201307|       9149|pending_payment|\n",
      "|      14|    201307|       9842|     processing|\n",
      "|      15|    201307|       2568|       complete|\n",
      "|      16|    201307|       7276|pending_payment|\n",
      "|      17|    201307|       2667|       complete|\n",
      "|      18|    201307|       1205|         closed|\n",
      "|      19|    201307|       9488|pending_payment|\n",
      "|      20|    201307|       9198|     processing|\n",
      "+--------+----------+-----------+---------------+\n",
      "only showing top 20 rows\n",
      "\n"
     ]
    }
   ],
   "source": [
    "dftyped.withColumn('order_date', date_format('order_date', 'yyyyMM')).show()\n",
    "#using multiple withColumn is also allowed for multiple column transformations\n",
    "#dftyped.withColumn('order_date', date_format('order_date', 'yyyyMM')).withColumn('order_status', lower(dftyped.order_status)).show()"
   ]
  },
  {
   "cell_type": "code",
   "execution_count": 108,
   "metadata": {},
   "outputs": [
    {
     "name": "stdout",
     "output_type": "stream",
     "text": [
      "+-----------+\n",
      "|order_month|\n",
      "+-----------+\n",
      "|     201307|\n",
      "|     201307|\n",
      "|     201307|\n",
      "|     201307|\n",
      "|     201307|\n",
      "|     201307|\n",
      "|     201307|\n",
      "|     201307|\n",
      "|     201307|\n",
      "|     201307|\n",
      "|     201307|\n",
      "|     201307|\n",
      "|     201307|\n",
      "|     201307|\n",
      "|     201307|\n",
      "|     201307|\n",
      "|     201307|\n",
      "|     201307|\n",
      "|     201307|\n",
      "|     201307|\n",
      "+-----------+\n",
      "only showing top 20 rows\n",
      "\n"
     ]
    }
   ],
   "source": [
    "dftyped.selectExpr('date_format(order_date,\"yyyMM\") as order_month').show()"
   ]
  },
  {
   "cell_type": "code",
   "execution_count": 137,
   "metadata": {},
   "outputs": [
    {
     "name": "stdout",
     "output_type": "stream",
     "text": [
      "+--------+-------------------+-----------+------------+\n",
      "|order_id|         order_date|customer_id|order_status|\n",
      "+--------+-------------------+-----------+------------+\n",
      "|       1|2013-07-25 00:00:00|      11599|      CLOSED|\n",
      "|       3|2013-07-25 00:00:00|      12111|    COMPLETE|\n",
      "|       4|2013-07-25 00:00:00|       8827|      CLOSED|\n",
      "|       5|2013-07-25 00:00:00|      11318|    COMPLETE|\n",
      "|       6|2013-07-25 00:00:00|       7130|    COMPLETE|\n",
      "|       7|2013-07-25 00:00:00|       4530|    COMPLETE|\n",
      "|      12|2013-07-25 00:00:00|       1837|      CLOSED|\n",
      "|      15|2013-07-25 00:00:00|       2568|    COMPLETE|\n",
      "|      17|2013-07-25 00:00:00|       2667|    COMPLETE|\n",
      "|      18|2013-07-25 00:00:00|       1205|      CLOSED|\n",
      "|      22|2013-07-25 00:00:00|        333|    COMPLETE|\n",
      "|      24|2013-07-25 00:00:00|      11441|      CLOSED|\n",
      "|      25|2013-07-25 00:00:00|       9503|      CLOSED|\n",
      "|      26|2013-07-25 00:00:00|       7562|    COMPLETE|\n",
      "|      28|2013-07-25 00:00:00|        656|    COMPLETE|\n",
      "|      32|2013-07-25 00:00:00|       3960|    COMPLETE|\n",
      "|      35|2013-07-25 00:00:00|       4840|    COMPLETE|\n",
      "|      37|2013-07-25 00:00:00|       5863|      CLOSED|\n",
      "|      45|2013-07-25 00:00:00|       2636|    COMPLETE|\n",
      "|      51|2013-07-25 00:00:00|      12271|      CLOSED|\n",
      "+--------+-------------------+-----------+------------+\n",
      "only showing top 20 rows\n",
      "\n"
     ]
    }
   ],
   "source": [
    "#filtering rows from DF\n",
    "#dftyped.where(dftyped.order_status == \"COMPLETE\").show()\n",
    "#dftyped.where('order_status = \"COMPLETE\"').show()\n",
    "#dftyped.where('order_status in (\"COMPLETE\",\"CLOSED\"').show()\n",
    "dftyped.where((dftyped.order_status == \"COMPLETE\").__or__(dftyped.order_status == \"CLOSED\")).show()"
   ]
  },
  {
   "cell_type": "code",
   "execution_count": 139,
   "metadata": {},
   "outputs": [
    {
     "name": "stdout",
     "output_type": "stream",
     "text": [
      "+--------+-------------------+-----------+------------+\n",
      "|order_id|         order_date|customer_id|order_status|\n",
      "+--------+-------------------+-----------+------------+\n",
      "|       1|2013-07-25 00:00:00|      11599|      CLOSED|\n",
      "|       3|2013-07-25 00:00:00|      12111|    COMPLETE|\n",
      "|       4|2013-07-25 00:00:00|       8827|      CLOSED|\n",
      "|       5|2013-07-25 00:00:00|      11318|    COMPLETE|\n",
      "|       6|2013-07-25 00:00:00|       7130|    COMPLETE|\n",
      "|       7|2013-07-25 00:00:00|       4530|    COMPLETE|\n",
      "|      12|2013-07-25 00:00:00|       1837|      CLOSED|\n",
      "|      15|2013-07-25 00:00:00|       2568|    COMPLETE|\n",
      "|      17|2013-07-25 00:00:00|       2667|    COMPLETE|\n",
      "|      18|2013-07-25 00:00:00|       1205|      CLOSED|\n",
      "|      22|2013-07-25 00:00:00|        333|    COMPLETE|\n",
      "|      24|2013-07-25 00:00:00|      11441|      CLOSED|\n",
      "|      25|2013-07-25 00:00:00|       9503|      CLOSED|\n",
      "|      26|2013-07-25 00:00:00|       7562|    COMPLETE|\n",
      "|      28|2013-07-25 00:00:00|        656|    COMPLETE|\n",
      "|      32|2013-07-25 00:00:00|       3960|    COMPLETE|\n",
      "|      35|2013-07-25 00:00:00|       4840|    COMPLETE|\n",
      "|      37|2013-07-25 00:00:00|       5863|      CLOSED|\n",
      "|      45|2013-07-25 00:00:00|       2636|    COMPLETE|\n",
      "|      51|2013-07-25 00:00:00|      12271|      CLOSED|\n",
      "+--------+-------------------+-----------+------------+\n",
      "only showing top 20 rows\n",
      "\n"
     ]
    }
   ],
   "source": [
    "#dftyped.filter(dftyped.order_status == \"COMPLETE\").show()\n",
    "#dftyped.filter('order_status = \"COMPLETE\"').show()\n",
    "#dftyped.filter('order_status in (\"COMPLETE\",\"CLOSED\")').show()\n",
    "dftyped.filter(dftyped.order_status.isin(\"COMPLETE\",\"CLOSED\")).show()"
   ]
  },
  {
   "cell_type": "code",
   "execution_count": 147,
   "metadata": {},
   "outputs": [
    {
     "name": "stdout",
     "output_type": "stream",
     "text": [
      "+--------+-------------------+-----------+------------+\n",
      "|order_id|         order_date|customer_id|order_status|\n",
      "+--------+-------------------+-----------+------------+\n",
      "|    1297|2013-08-01 00:00:00|      11607|    COMPLETE|\n",
      "|    1298|2013-08-01 00:00:00|       5105|      CLOSED|\n",
      "|    1299|2013-08-01 00:00:00|       7802|    COMPLETE|\n",
      "|    1302|2013-08-01 00:00:00|       1695|    COMPLETE|\n",
      "|    1304|2013-08-01 00:00:00|       2059|    COMPLETE|\n",
      "|    1305|2013-08-01 00:00:00|       3844|    COMPLETE|\n",
      "|    1307|2013-08-01 00:00:00|       4474|    COMPLETE|\n",
      "|    1309|2013-08-01 00:00:00|       2367|      CLOSED|\n",
      "|    1312|2013-08-01 00:00:00|      12291|    COMPLETE|\n",
      "|    1314|2013-08-01 00:00:00|      10993|    COMPLETE|\n",
      "|    1315|2013-08-01 00:00:00|       5660|    COMPLETE|\n",
      "|    1318|2013-08-01 00:00:00|       4212|    COMPLETE|\n",
      "|    1319|2013-08-01 00:00:00|       3966|    COMPLETE|\n",
      "|    1320|2013-08-01 00:00:00|      12270|    COMPLETE|\n",
      "|    1321|2013-08-01 00:00:00|        800|    COMPLETE|\n",
      "|    1322|2013-08-01 00:00:00|       9264|    COMPLETE|\n",
      "|    1323|2013-08-01 00:00:00|       7422|    COMPLETE|\n",
      "|    1324|2013-08-01 00:00:00|       4600|    COMPLETE|\n",
      "|    1327|2013-08-01 00:00:00|       9526|    COMPLETE|\n",
      "|    1329|2013-08-01 00:00:00|       6070|      CLOSED|\n",
      "+--------+-------------------+-----------+------------+\n",
      "only showing top 20 rows\n",
      "\n"
     ]
    }
   ],
   "source": [
    "#get the records which order_status are COMPLETE and CLOSED and order_date 2013 Aug\n",
    "dftyped.filter(dftyped.order_status.isin(\"COMPLETE\",\"CLOSED\").__and__(date_format(dftyped.order_date,\"yyyMM\") == \"201308\")).show()"
   ]
  },
  {
   "cell_type": "code",
   "execution_count": 148,
   "metadata": {},
   "outputs": [
    {
     "name": "stdout",
     "output_type": "stream",
     "text": [
      "+--------+-------------------+-----------+------------+\n",
      "|order_id|         order_date|customer_id|order_status|\n",
      "+--------+-------------------+-----------+------------+\n",
      "|       1|2013-07-25 00:00:00|      11599|      CLOSED|\n",
      "|       3|2013-07-25 00:00:00|      12111|    COMPLETE|\n",
      "|       4|2013-07-25 00:00:00|       8827|      CLOSED|\n",
      "|       5|2013-07-25 00:00:00|      11318|    COMPLETE|\n",
      "|       6|2013-07-25 00:00:00|       7130|    COMPLETE|\n",
      "|       7|2013-07-25 00:00:00|       4530|    COMPLETE|\n",
      "|      12|2013-07-25 00:00:00|       1837|      CLOSED|\n",
      "|      15|2013-07-25 00:00:00|       2568|    COMPLETE|\n",
      "|      17|2013-07-25 00:00:00|       2667|    COMPLETE|\n",
      "|      18|2013-07-25 00:00:00|       1205|      CLOSED|\n",
      "|      22|2013-07-25 00:00:00|        333|    COMPLETE|\n",
      "|      24|2013-07-25 00:00:00|      11441|      CLOSED|\n",
      "|      25|2013-07-25 00:00:00|       9503|      CLOSED|\n",
      "|      26|2013-07-25 00:00:00|       7562|    COMPLETE|\n",
      "|      28|2013-07-25 00:00:00|        656|    COMPLETE|\n",
      "|      32|2013-07-25 00:00:00|       3960|    COMPLETE|\n",
      "|      35|2013-07-25 00:00:00|       4840|    COMPLETE|\n",
      "|      37|2013-07-25 00:00:00|       5863|      CLOSED|\n",
      "|      45|2013-07-25 00:00:00|       2636|    COMPLETE|\n",
      "|      51|2013-07-25 00:00:00|      12271|      CLOSED|\n",
      "+--------+-------------------+-----------+------------+\n",
      "only showing top 20 rows\n",
      "\n"
     ]
    }
   ],
   "source": [
    "#Joins using DF.\n",
    "#df1.join(df2, columnforJoin) #if both the df has same column\n",
    "#df1.join(df2,df1.col1 == df2.col2, how[`inner``, ``cross``, ``outer``,\n",
    "#    ``full``, ``full_outer``, ``left``, ``left_outer``, ``right``, ``right_outer``,\n",
    "#    ``left_semi``, and ``left_anti``]) # if both the df has different join columns\n",
    "\n",
    "dftyped.filter(dftyped.order_status.isin(\"COMPLETE\",\"CLOSED\")).show()"
   ]
  },
  {
   "cell_type": "code",
   "execution_count": 150,
   "metadata": {},
   "outputs": [],
   "source": [
    "#Grouping and Aggregation [join, groupBy, sort or orderBy]\n",
    "#dftyped.join()"
   ]
  },
  {
   "cell_type": "code",
   "execution_count": 151,
   "metadata": {},
   "outputs": [],
   "source": [
    "\n",
    "from pyspark.sql.types import * \n",
    "schema = StructType([StructField(\"order_item_id\", IntegerType()),StructField(\"order_item_order_id\", IntegerType()),StructField(\"order_item_product_id\", IntegerType()),StructField(\"order_item_quantity\", IntegerType()),StructField(\"order_item_subtotal\", FloatType()), StructField(\"order_item_product_price\", FloatType())])\n",
    "orderItemsDF = spark.read.csv(path='/home/hduser/Documents/RddTransformations/Data/order_items.csv', sep=\",\", schema=schema)"
   ]
  },
  {
   "cell_type": "code",
   "execution_count": 152,
   "metadata": {},
   "outputs": [
    {
     "name": "stdout",
     "output_type": "stream",
     "text": [
      "+-------------+-------------------+---------------------+-------------------+-------------------+------------------------+\n",
      "|order_item_id|order_item_order_id|order_item_product_id|order_item_quantity|order_item_subtotal|order_item_product_price|\n",
      "+-------------+-------------------+---------------------+-------------------+-------------------+------------------------+\n",
      "|            1|                  1|                  957|                  1|             299.98|                  299.98|\n",
      "|            2|                  2|                 1073|                  1|             199.99|                  199.99|\n",
      "|            3|                  2|                  502|                  5|              250.0|                    50.0|\n",
      "|            4|                  2|                  403|                  1|             129.99|                  129.99|\n",
      "|            5|                  4|                  897|                  2|              49.98|                   24.99|\n",
      "|            6|                  4|                  365|                  5|             299.95|                   59.99|\n",
      "|            7|                  4|                  502|                  3|              150.0|                    50.0|\n",
      "|            8|                  4|                 1014|                  4|             199.92|                   49.98|\n",
      "|            9|                  5|                  957|                  1|             299.98|                  299.98|\n",
      "|           10|                  5|                  365|                  5|             299.95|                   59.99|\n",
      "|           11|                  5|                 1014|                  2|              99.96|                   49.98|\n",
      "|           12|                  5|                  957|                  1|             299.98|                  299.98|\n",
      "|           13|                  5|                  403|                  1|             129.99|                  129.99|\n",
      "|           14|                  7|                 1073|                  1|             199.99|                  199.99|\n",
      "|           15|                  7|                  957|                  1|             299.98|                  299.98|\n",
      "|           16|                  7|                  926|                  5|              79.95|                   15.99|\n",
      "|           17|                  8|                  365|                  3|             179.97|                   59.99|\n",
      "|           18|                  8|                  365|                  5|             299.95|                   59.99|\n",
      "|           19|                  8|                 1014|                  4|             199.92|                   49.98|\n",
      "|           20|                  8|                  502|                  1|               50.0|                    50.0|\n",
      "+-------------+-------------------+---------------------+-------------------+-------------------+------------------------+\n",
      "only showing top 20 rows\n",
      "\n"
     ]
    }
   ],
   "source": [
    "orderItemsDF.show()"
   ]
  },
  {
   "cell_type": "code",
   "execution_count": 156,
   "metadata": {},
   "outputs": [
    {
     "name": "stdout",
     "output_type": "stream",
     "text": [
      "+-------------------+------------------------+\n",
      "|order_item_order_id|sum(order_item_subtotal)|\n",
      "+-------------------+------------------------+\n",
      "|                148|      479.99000549316406|\n",
      "|                463|       829.9200096130371|\n",
      "|                471|      169.98000717163086|\n",
      "|                496|        441.950008392334|\n",
      "|               1088|      249.97000885009766|\n",
      "|               1580|      299.95001220703125|\n",
      "|               1591|       439.8599967956543|\n",
      "|               1645|       1509.790023803711|\n",
      "|               2366|       299.9700012207031|\n",
      "|               2659|       724.9100151062012|\n",
      "|               2866|        569.960018157959|\n",
      "|               3175|      209.97000122070312|\n",
      "|               3749|      143.97000122070312|\n",
      "|               3794|      299.95001220703125|\n",
      "|               3918|       829.9300155639648|\n",
      "|               3997|       579.9500122070312|\n",
      "|               4101|      129.99000549316406|\n",
      "|               4519|        79.9800033569336|\n",
      "|               4818|       399.9800109863281|\n",
      "|               4900|       179.9700050354004|\n",
      "+-------------------+------------------------+\n",
      "only showing top 20 rows\n",
      "\n"
     ]
    }
   ],
   "source": [
    "#get the sum of revenue particular order\n",
    "#orderItemsDF.filter(orderItemsDF.order_item_order_id == 2).agg(sum('order_item_subtotal')).show()\n",
    "orderItemsDF.groupBy('order_item_order_id').sum('order_item_subtotal').alias(\"sum\").show()"
   ]
  },
  {
   "cell_type": "code",
   "execution_count": 157,
   "metadata": {},
   "outputs": [
    {
     "name": "stdout",
     "output_type": "stream",
     "text": [
      "+--------+-------------------+-----------+------------+\n",
      "|order_id|         order_date|customer_id|order_status|\n",
      "+--------+-------------------+-----------+------------+\n",
      "|     527|2013-07-28 00:00:00|       5426|    CANCELED|\n",
      "|    1435|2013-08-01 00:00:00|       1879|    CANCELED|\n",
      "|     552|2013-07-28 00:00:00|       1445|    CANCELED|\n",
      "|     112|2013-07-26 00:00:00|       5375|    CANCELED|\n",
      "|     564|2013-07-28 00:00:00|       2216|    CANCELED|\n",
      "|     955|2013-07-30 00:00:00|       8117|    CANCELED|\n",
      "|    1383|2013-08-01 00:00:00|       1753|    CANCELED|\n",
      "|     962|2013-07-30 00:00:00|       9492|    CANCELED|\n",
      "|     607|2013-07-28 00:00:00|       6376|    CANCELED|\n",
      "|    1013|2013-07-30 00:00:00|       1903|    CANCELED|\n",
      "|     667|2013-07-28 00:00:00|       4726|    CANCELED|\n",
      "|    1169|2013-07-31 00:00:00|       3971|    CANCELED|\n",
      "|     717|2013-07-29 00:00:00|       8208|    CANCELED|\n",
      "|    1186|2013-07-31 00:00:00|      11947|    CANCELED|\n",
      "|     753|2013-07-29 00:00:00|       5094|    CANCELED|\n",
      "|    1190|2013-07-31 00:00:00|      12360|    CANCELED|\n",
      "|      50|2013-07-25 00:00:00|       5225|    CANCELED|\n",
      "|    1313|2013-08-01 00:00:00|       3471|    CANCELED|\n",
      "|     716|2013-07-29 00:00:00|       2581|    CANCELED|\n",
      "|    1365|2013-08-01 00:00:00|       8567|    CANCELED|\n",
      "+--------+-------------------+-----------+------------+\n",
      "only showing top 20 rows\n",
      "\n"
     ]
    }
   ],
   "source": [
    "#Sort by Order_status\n",
    "dftyped.orderBy('order_status').show()"
   ]
  },
  {
   "cell_type": "code",
   "execution_count": 158,
   "metadata": {},
   "outputs": [
    {
     "name": "stdout",
     "output_type": "stream",
     "text": [
      "+--------+-------------------+-----------+------------+\n",
      "|order_id|         order_date|customer_id|order_status|\n",
      "+--------+-------------------+-----------+------------+\n",
      "|      50|2013-07-25 00:00:00|       5225|    CANCELED|\n",
      "|       1|2013-07-25 00:00:00|      11599|      CLOSED|\n",
      "|      12|2013-07-25 00:00:00|       1837|      CLOSED|\n",
      "|       4|2013-07-25 00:00:00|       8827|      CLOSED|\n",
      "|      37|2013-07-25 00:00:00|       5863|      CLOSED|\n",
      "|      18|2013-07-25 00:00:00|       1205|      CLOSED|\n",
      "|      24|2013-07-25 00:00:00|      11441|      CLOSED|\n",
      "|      25|2013-07-25 00:00:00|       9503|      CLOSED|\n",
      "|   57754|2013-07-25 00:00:00|       4648|      CLOSED|\n",
      "|      90|2013-07-25 00:00:00|       9131|      CLOSED|\n",
      "|      51|2013-07-25 00:00:00|      12271|      CLOSED|\n",
      "|      57|2013-07-25 00:00:00|       7073|      CLOSED|\n",
      "|      61|2013-07-25 00:00:00|       4791|      CLOSED|\n",
      "|      62|2013-07-25 00:00:00|       9111|      CLOSED|\n",
      "|      87|2013-07-25 00:00:00|       3065|      CLOSED|\n",
      "|     101|2013-07-25 00:00:00|       5116|      CLOSED|\n",
      "|   57766|2013-07-25 00:00:00|       2376|      CLOSED|\n",
      "|   57781|2013-07-25 00:00:00|       6143|      CLOSED|\n",
      "|   57782|2013-07-25 00:00:00|        284|      CLOSED|\n",
      "|   67416|2013-07-25 00:00:00|      10920|      CLOSED|\n",
      "+--------+-------------------+-----------+------------+\n",
      "only showing top 20 rows\n",
      "\n"
     ]
    }
   ],
   "source": [
    "#sort Orderby OrderDate and orderStatus [composite Sorting]\n",
    "dftyped.orderBy('order_date','order_status').show()"
   ]
  },
  {
   "cell_type": "code",
   "execution_count": 159,
   "metadata": {},
   "outputs": [
    {
     "name": "stdout",
     "output_type": "stream",
     "text": [
      "+-------------+-------------------+---------------------+-------------------+-------------------+------------------------+\n",
      "|order_item_id|order_item_order_id|order_item_product_id|order_item_quantity|order_item_subtotal|order_item_product_price|\n",
      "+-------------+-------------------+---------------------+-------------------+-------------------+------------------------+\n",
      "|            1|                  1|                  957|                  1|             299.98|                  299.98|\n",
      "|            3|                  2|                  502|                  5|              250.0|                    50.0|\n",
      "|            2|                  2|                 1073|                  1|             199.99|                  199.99|\n",
      "|            4|                  2|                  403|                  1|             129.99|                  129.99|\n",
      "|            6|                  4|                  365|                  5|             299.95|                   59.99|\n",
      "|            8|                  4|                 1014|                  4|             199.92|                   49.98|\n",
      "|            7|                  4|                  502|                  3|              150.0|                    50.0|\n",
      "|            5|                  4|                  897|                  2|              49.98|                   24.99|\n",
      "|            9|                  5|                  957|                  1|             299.98|                  299.98|\n",
      "|           12|                  5|                  957|                  1|             299.98|                  299.98|\n",
      "|           10|                  5|                  365|                  5|             299.95|                   59.99|\n",
      "|           13|                  5|                  403|                  1|             129.99|                  129.99|\n",
      "|           11|                  5|                 1014|                  2|              99.96|                   49.98|\n",
      "|           15|                  7|                  957|                  1|             299.98|                  299.98|\n",
      "|           14|                  7|                 1073|                  1|             199.99|                  199.99|\n",
      "|           16|                  7|                  926|                  5|              79.95|                   15.99|\n",
      "|           18|                  8|                  365|                  5|             299.95|                   59.99|\n",
      "|           19|                  8|                 1014|                  4|             199.92|                   49.98|\n",
      "|           17|                  8|                  365|                  3|             179.97|                   59.99|\n",
      "|           20|                  8|                  502|                  1|               50.0|                    50.0|\n",
      "+-------------+-------------------+---------------------+-------------------+-------------------+------------------------+\n",
      "only showing top 20 rows\n",
      "\n"
     ]
    }
   ],
   "source": [
    "#sort by order_item_order_id and order_item_sutotal in descending order\n",
    "orderItemsDF.orderBy(orderItemsDF.order_item_order_id,orderItemsDF.order_item_subtotal.desc()).show()"
   ]
  },
  {
   "cell_type": "code",
   "execution_count": 160,
   "metadata": {},
   "outputs": [],
   "source": [
    "#writing Df to storage.\n",
    "#orderItemsDF.write.Differentoptions"
   ]
  },
  {
   "cell_type": "code",
   "execution_count": 163,
   "metadata": {},
   "outputs": [
    {
     "name": "stdout",
     "output_type": "stream",
     "text": [
      "+-------------------+-------------+\n",
      "|order_item_order_id|Total Revenue|\n",
      "+-------------------+-------------+\n",
      "|                148|       479.99|\n",
      "|                463|       829.92|\n",
      "|                471|       169.98|\n",
      "|                496|       441.95|\n",
      "|               1088|       249.97|\n",
      "|               1580|       299.95|\n",
      "|               1591|       439.86|\n",
      "|               1645|      1509.79|\n",
      "|               2366|       299.97|\n",
      "|               2659|       724.91|\n",
      "|               2866|       569.96|\n",
      "|               3175|       209.97|\n",
      "|               3749|       143.97|\n",
      "|               3794|       299.95|\n",
      "|               3918|       829.93|\n",
      "|               3997|       579.95|\n",
      "|               4101|       129.99|\n",
      "|               4519|        79.98|\n",
      "|               4818|       399.98|\n",
      "|               4900|       179.97|\n",
      "+-------------------+-------------+\n",
      "only showing top 20 rows\n",
      "\n"
     ]
    }
   ],
   "source": [
    "#Aggregations, Ranking,Windowing functions- APIs\n",
    "#Get Top N products per Day\n",
    "#Creating Window Specs\n",
    "#Performing aggregation\n",
    "#using Windowing Functions\n",
    "#Ranking in each Partitions/Group\n",
    "#Development Life Cycle\n",
    "orderItemsDF.groupBy('order_item_order_id').agg(round(sum('order_item_subtotal'),2).alias('Total Revenue')).show()\n",
    "#we want to see what is the % of the revenue in total revenue"
   ]
  },
  {
   "cell_type": "code",
   "execution_count": 220,
   "metadata": {},
   "outputs": [
    {
     "name": "stdout",
     "output_type": "stream",
     "text": [
      "+-------------------+-------------------+------------------+-----+\n",
      "|order_item_order_id|order_item_subtotal|      totalRevneue|    %|\n",
      "+-------------------+-------------------+------------------+-----+\n",
      "|                148|              100.0|479.99000549316406|20.83|\n",
      "|                148|              250.0|479.99000549316406|52.08|\n",
      "|                148|             129.99|479.99000549316406|27.08|\n",
      "|                463|             239.96| 829.9200096130371|28.91|\n",
      "|                463|              250.0| 829.9200096130371|30.12|\n",
      "|                463|              39.99| 829.9200096130371| 4.82|\n",
      "|                463|             299.97| 829.9200096130371|36.14|\n",
      "|                471|              39.99|169.98000717163086|23.53|\n",
      "|                471|             129.99|169.98000717163086|76.47|\n",
      "|                496|              59.99|  441.950008392334|13.57|\n",
      "|                496|              150.0|  441.950008392334|33.94|\n",
      "|                496|              51.99|  441.950008392334|11.76|\n",
      "|                496|             129.99|  441.950008392334|29.41|\n",
      "|                496|              49.98|  441.950008392334|11.31|\n",
      "|               1088|             129.99|249.97000885009766| 52.0|\n",
      "|               1088|             119.98|249.97000885009766| 48.0|\n",
      "|               1580|             299.95|299.95001220703125|100.0|\n",
      "|               1591|             199.95| 439.8599967956543|45.46|\n",
      "|               1591|              39.99| 439.8599967956543| 9.09|\n",
      "|               1591|             199.92| 439.8599967956543|45.45|\n",
      "+-------------------+-------------------+------------------+-----+\n",
      "only showing top 20 rows\n",
      "\n"
     ]
    }
   ],
   "source": [
    "PerOrderTotalRevenue = orderItemsDF.groupBy('order_item_order_id').agg(round(sum('order_item_subtotal'),2).alias('Total_Revenue'))\n",
    "#PerOrderTotalRevenue.show()\n",
    "#while doing groupBy(), we will be only able to get that column details only if we need other columns along with groupby then it's not suggest to use group by \n",
    "#better to go with partition clause\n",
    "\n",
    "PerOrderRevTotalRev = PerOrderTotalRevenue.join(orderItemsDF,on='order_item_order_id').select('order_item_order_id','Total_Revenue','order_item_subtotal')\n",
    "#PerOrderRevTotalRev.show()\n",
    "\n",
    "\n",
    "#The same can be achieved using window function\n",
    "from pyspark.sql.window import Window\n",
    "spec = Window.partitionBy('order_item_order_id')\n",
    "#orderItemsDF.select('order_item_order_id','order_item_subtotal',round(sum(orderItemsDF.order_item_subtotal).over(spec),2).alias('totalRevneue')).show()\n",
    "df2 = orderItemsDF.select('order_item_order_id','order_item_subtotal', sum(orderItemsDF.order_item_subtotal).over(spec).alias('totalRevneue'))\n",
    "df2.select('order_item_order_id','order_item_subtotal','totalRevneue',round((df2.order_item_subtotal*100)/(df2.totalRevneue),2).alias('%')).show()"
   ]
  },
  {
   "cell_type": "code",
   "execution_count": 222,
   "metadata": {},
   "outputs": [],
   "source": [
    "#PerOrderRevTotalRev.show()\n",
    "#PerOrderTotalRevenue.select('order_item_order_id','Total_Revenue','order_item_subtotal').show()"
   ]
  },
  {
   "cell_type": "code",
   "execution_count": 228,
   "metadata": {},
   "outputs": [
    {
     "name": "stdout",
     "output_type": "stream",
     "text": [
      "+-------------------+------------------+------------------------------------------------------------------------------------+\n",
      "|order_item_subtotal|           revenue|avg(order_item_subtotal) OVER (PARTITION BY order_item_order_id unspecifiedframe$())|\n",
      "+-------------------+------------------+------------------------------------------------------------------------------------+\n",
      "|              100.0|479.99000549316406|                                                                  159.99666849772134|\n",
      "|              250.0|479.99000549316406|                                                                  159.99666849772134|\n",
      "|             129.99|479.99000549316406|                                                                  159.99666849772134|\n",
      "|             239.96| 829.9200096130371|                                                                  207.48000240325928|\n",
      "|              250.0| 829.9200096130371|                                                                  207.48000240325928|\n",
      "|              39.99| 829.9200096130371|                                                                  207.48000240325928|\n",
      "|             299.97| 829.9200096130371|                                                                  207.48000240325928|\n",
      "|              39.99|169.98000717163086|                                                                   84.99000358581543|\n",
      "|             129.99|169.98000717163086|                                                                   84.99000358581543|\n",
      "|              59.99|  441.950008392334|                                                                    88.3900016784668|\n",
      "|              150.0|  441.950008392334|                                                                    88.3900016784668|\n",
      "|              51.99|  441.950008392334|                                                                    88.3900016784668|\n",
      "|             129.99|  441.950008392334|                                                                    88.3900016784668|\n",
      "|              49.98|  441.950008392334|                                                                    88.3900016784668|\n",
      "|             129.99|249.97000885009766|                                                                  124.98500442504883|\n",
      "|             119.98|249.97000885009766|                                                                  124.98500442504883|\n",
      "|             299.95|299.95001220703125|                                                                  299.95001220703125|\n",
      "|             199.95| 439.8599967956543|                                                                  146.61999893188477|\n",
      "|              39.99| 439.8599967956543|                                                                  146.61999893188477|\n",
      "|             199.92| 439.8599967956543|                                                                  146.61999893188477|\n",
      "+-------------------+------------------+------------------------------------------------------------------------------------+\n",
      "only showing top 20 rows\n",
      "\n"
     ]
    }
   ],
   "source": [
    "groupById = Window.partitionBy('order_item_order_id')\n",
    "#orderItemsDF.withColumn('order_item_subtotal',sum('order_item_subtotal').over(groupById)).show()\n",
    "orderItemsDF.select('order_item_subtotal',sum('order_item_subtotal').over(groupById).alias('revenue'), avg('order_item_subtotal').over(groupById)).show()"
   ]
  },
  {
   "cell_type": "code",
   "execution_count": 240,
   "metadata": {},
   "outputs": [
    {
     "name": "stdout",
     "output_type": "stream",
     "text": [
      "+--------+---------------------------------------------------------------------------+\n",
      "|order_id|avg(order_item_subtotal) OVER (PARTITION BY order_date unspecifiedframe$())|\n",
      "+--------+---------------------------------------------------------------------------+\n",
      "|   14232|                                                          205.6111187008645|\n",
      "|   14232|                                                          205.6111187008645|\n",
      "|   14233|                                                          205.6111187008645|\n",
      "|   14235|                                                          205.6111187008645|\n",
      "|   14236|                                                          205.6111187008645|\n",
      "|   14236|                                                          205.6111187008645|\n",
      "|   14236|                                                          205.6111187008645|\n",
      "|   14237|                                                          205.6111187008645|\n",
      "|   14237|                                                          205.6111187008645|\n",
      "|   14238|                                                          205.6111187008645|\n",
      "|   14238|                                                          205.6111187008645|\n",
      "|   14238|                                                          205.6111187008645|\n",
      "|   14240|                                                          205.6111187008645|\n",
      "|   14240|                                                          205.6111187008645|\n",
      "|   14240|                                                          205.6111187008645|\n",
      "|   14241|                                                          205.6111187008645|\n",
      "|   14241|                                                          205.6111187008645|\n",
      "|   14241|                                                          205.6111187008645|\n",
      "|   14241|                                                          205.6111187008645|\n",
      "|   14244|                                                          205.6111187008645|\n",
      "+--------+---------------------------------------------------------------------------+\n",
      "only showing top 20 rows\n",
      "\n"
     ]
    }
   ],
   "source": [
    "# get Average Revenue of each day and get all the orders who earn more than avg revenue\n",
    "# orderDF.show()\n",
    "# orderItemsDF.show()\n",
    "orderDFNew = orderDF.filter((orderDF.order_status == 'COMPLETE').__or__(orderDF.order_status=='CLOSED'))\n",
    "#orderDFNew.show()\n",
    "joinOrder_OrderItems = orderDFNew.join(orderItemsDF, orderDF.order_id == orderItemsDF.order_item_order_id).select('order_id','order_date','order_item_subtotal')\n",
    "#joinOrder_OrderItems.show()\n",
    "\n",
    "spec = Window.partitionBy('order_date')\n",
    "avgPerDay = joinOrder_OrderItems.select('order_id',avg('order_item_subtotal').over(spec))\n",
    "avgPerDay.show()"
   ]
  },
  {
   "cell_type": "code",
   "execution_count": null,
   "metadata": {},
   "outputs": [],
   "source": []
  }
 ],
 "metadata": {
  "kernelspec": {
   "display_name": "Python 3",
   "language": "python",
   "name": "python3"
  },
  "language_info": {
   "codemirror_mode": {
    "name": "ipython",
    "version": 3
   },
   "file_extension": ".py",
   "mimetype": "text/x-python",
   "name": "python",
   "nbconvert_exporter": "python",
   "pygments_lexer": "ipython3",
   "version": "3.5.2"
  }
 },
 "nbformat": 4,
 "nbformat_minor": 2
}
