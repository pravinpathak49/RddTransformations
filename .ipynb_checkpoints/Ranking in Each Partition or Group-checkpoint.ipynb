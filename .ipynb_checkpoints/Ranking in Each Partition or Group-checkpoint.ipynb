{
 "cells": [
  {
   "cell_type": "code",
   "execution_count": 2,
   "metadata": {},
   "outputs": [],
   "source": [
    "from pyspark.sql import SparkSession\n",
    "from pyspark.sql.types import * \n",
    "from pyspark.sql.functions import *\n",
    "from pyspark.sql.window import Window\n",
    "\n",
    "spark = SparkSession.builder.appName('Ranking').getOrCreate()\n",
    "\n",
    "#read the csv file in dataframe\n",
    "OrderSchema = StructType([StructField(\"order_id\", IntegerType()),StructField(\"order_date\", StringType()), StructField(\"customer_id\", IntegerType()),StructField(\"order_status\", StringType())])\n",
    "orderDF = spark.read.csv(path='/home/hduser/Documents/RddTransformations/Data/orders.csv', sep=\",\", schema=OrderSchema)\n",
    "\n",
    "orderItemschema = StructType([StructField(\"order_item_id\", IntegerType()),StructField(\"order_item_order_id\", IntegerType()),StructField(\"order_item_product_id\", IntegerType()),StructField(\"order_item_quantity\", IntegerType()),StructField(\"order_item_subtotal\", FloatType()), StructField(\"order_item_product_price\", FloatType())])\n",
    "orderItemsDF = spark.read.csv(path='/home/hduser/Documents/RddTransformations/Data/order_items.csv', sep=\",\", schema=orderItemschema)\n"
   ]
  },
  {
   "cell_type": "code",
   "execution_count": 33,
   "metadata": {},
   "outputs": [
    {
     "name": "stdout",
     "output_type": "stream",
     "text": [
      "+-------------------+---------------------+------------------+----+\n",
      "|         order_date|order_item_product_id|sum(Total_revenue)|Rank|\n",
      "+-------------------+---------------------+------------------+----+\n",
      "|2013-10-23 00:00:00|                  926|63.959999084472656|   1|\n",
      "|2013-10-23 00:00:00|                  977| 89.97000122070312|   2|\n",
      "|2013-10-23 00:00:00|                  743|169.99000549316406|   3|\n",
      "|2013-10-23 00:00:00|                  822| 239.9499969482422|   4|\n",
      "|2014-02-18 00:00:00|                  703| 99.94999694824219|   1|\n",
      "|2014-02-18 00:00:00|                  821| 103.9800033569336|   2|\n",
      "|2014-02-18 00:00:00|                  893| 234.9300079345703|   3|\n",
      "|2014-02-18 00:00:00|                  276| 263.9700050354004|   4|\n",
      "|2014-04-10 00:00:00|                  818|127.97000503540039|   1|\n",
      "|2014-04-10 00:00:00|                  775|139.98000526428223|   2|\n",
      "|2014-04-10 00:00:00|                  251| 189.9499969482422|   3|\n",
      "|2014-04-10 00:00:00|                  278|271.96001052856445|   4|\n",
      "|2014-04-14 00:00:00|                  924|191.94000625610352|   1|\n",
      "|2014-04-14 00:00:00|                  564|             270.0|   2|\n",
      "|2014-04-14 00:00:00|                  572|299.92000579833984|   3|\n",
      "|2014-04-14 00:00:00|                  926|313.93000411987305|   4|\n",
      "|2014-06-10 00:00:00|                  666|109.98999786376953|   1|\n",
      "|2014-06-10 00:00:00|                  828|127.95999908447266|   2|\n",
      "|2014-06-10 00:00:00|                  804| 499.9300079345703|   3|\n",
      "|2014-06-10 00:00:00|                  793| 604.9200134277344|   4|\n",
      "+-------------------+---------------------+------------------+----+\n",
      "only showing top 20 rows\n",
      "\n"
     ]
    }
   ],
   "source": [
    "#rank, dense_rank, row_number\n",
    "#We need to create window spec using first partitionBy followed by orderBy\n",
    "#100,99,98,98,98,97\n",
    "#1,2,3,3,3,6 ->[Using rank] it will skip 4,5 \n",
    "#1,2,3,3,3,4 ->[Using dense_rank] it will not skip iteration i'.e the main difference between rank and dense_rank\n",
    "#1,2,3,4,5,6 ->[Using row_number] it has to assign a unique number to each row(value)\n",
    "\n",
    "#Problem:- Assign rank to Products based on revenue each day or month\n",
    "\n",
    "#1. First get OrderId and OrderDate from Orders only those orders whose order_status are completed and closed.\n",
    "order = orderDF.filter((orderDF.order_status == 'COMPLETE').__or__(orderDF.order_status == 'CLOSED')).select('order_date','order_id')\n",
    "\n",
    "#2. Join the OrderDate with OrdeId groupBy order_date, orderId and suming the Revenue\n",
    "    #2.1 Get the order_item_order_id,order_item_product_id,Total_revenue from orderItemsDF\n",
    "perOrder = Window.partitionBy('order_item_order_id')\n",
    "orderItems = orderItemsDF.select('order_item_order_id','order_item_product_id', sum(orderItemsDF.order_item_subtotal).over(perOrder).alias('Total_revenue'))\n",
    "    #2.2 Join orderitem and order based on id and groupBy daily basis\n",
    "orderRevenueDaily = order.join(orderItems, order.order_id==orderItems.order_item_order_id)\n",
    "    #2.3 GroupBy Order_date and Product_id and get per day per_product revenue\n",
    "ProductRevenueDaily = orderRevenueDaily.groupBy('order_date', 'order_item_product_id').sum('Total_revenue')\n",
    "#ProductRevenueDaily.show()\n",
    "\n",
    "#3. Order the records based on Revenue\n",
    "    #3.1 Create windowSpec object to Rank\n",
    "perDay = Window.partitionBy('order_date').orderBy('sum(Total_revenue)')\n",
    "    #3.2 Rank the ProductRevenueDaily\n",
    "RankedProductsId = ProductRevenueDaily.select('order_date','order_item_product_id','sum(Total_revenue)', rank().over(perDay).alias('Rank'))\n",
    "#4 Select Top n items \n",
    "RankedProductsId.filter(RankedProductsId.Rank <= 4).show()"
   ]
  },
  {
   "cell_type": "code",
   "execution_count": null,
   "metadata": {},
   "outputs": [],
   "source": []
  },
  {
   "cell_type": "code",
   "execution_count": null,
   "metadata": {},
   "outputs": [],
   "source": []
  }
 ],
 "metadata": {
  "kernelspec": {
   "display_name": "Python 3",
   "language": "python",
   "name": "python3"
  },
  "language_info": {
   "codemirror_mode": {
    "name": "ipython",
    "version": 3
   },
   "file_extension": ".py",
   "mimetype": "text/x-python",
   "name": "python",
   "nbconvert_exporter": "python",
   "pygments_lexer": "ipython3",
   "version": "3.5.2"
  }
 },
 "nbformat": 4,
 "nbformat_minor": 2
}
