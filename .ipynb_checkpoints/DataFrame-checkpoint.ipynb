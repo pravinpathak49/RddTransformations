{
 "cells": [
  {
   "cell_type": "code",
   "execution_count": 2,
   "metadata": {},
   "outputs": [],
   "source": [
    "#DataFrame are RDD with schema on it.\n",
    "#It can be created by various method\n",
    "#[reading textdata from files]\n",
    "#[reading data from Hive , mysql over jdbc, +more]\n",
    "from pyspark.sql import SparkSession\n",
    "spark = SparkSession.builder.appName('DF Introduction').getOrCreate()"
   ]
  },
  {
   "cell_type": "code",
   "execution_count": 12,
   "metadata": {},
   "outputs": [
    {
     "name": "stdout",
     "output_type": "stream",
     "text": [
      "root\n",
      " |-- _c0: string (nullable = true)\n",
      " |-- _c1: string (nullable = true)\n",
      " |-- _c2: string (nullable = true)\n",
      " |-- _c3: string (nullable = true)\n",
      "\n"
     ]
    }
   ],
   "source": [
    "df1 = spark.read.csv('/home/hduser/Documents/RddTransformations/Data/orders.csv')\n",
    "df1.printSchema()\n",
    "#default it will create it's own schema string as default data type and _c0, _c1 as default column name"
   ]
  },
  {
   "cell_type": "code",
   "execution_count": 13,
   "metadata": {},
   "outputs": [
    {
     "name": "stdout",
     "output_type": "stream",
     "text": [
      "root\n",
      " |-- order_id: string (nullable = true)\n",
      " |-- Order_date: string (nullable = true)\n",
      " |-- Customer_id: string (nullable = true)\n",
      " |-- Order_status: string (nullable = true)\n",
      "\n"
     ]
    }
   ],
   "source": [
    "df1 = spark.read.csv('/home/hduser/Documents/RddTransformations/Data/orders.csv').toDF('order_id','Order_date','Customer_id','Order_status')\n",
    "df1.printSchema()"
   ]
  },
  {
   "cell_type": "code",
   "execution_count": 14,
   "metadata": {},
   "outputs": [
    {
     "name": "stdout",
     "output_type": "stream",
     "text": [
      "+--------+-------------------+\n",
      "|order_id|         Order_date|\n",
      "+--------+-------------------+\n",
      "|       1|2013-07-25 00:00:00|\n",
      "|       2|2013-07-25 00:00:00|\n",
      "|       3|2013-07-25 00:00:00|\n",
      "|       4|2013-07-25 00:00:00|\n",
      "|       5|2013-07-25 00:00:00|\n",
      "|       6|2013-07-25 00:00:00|\n",
      "|       7|2013-07-25 00:00:00|\n",
      "|       8|2013-07-25 00:00:00|\n",
      "|       9|2013-07-25 00:00:00|\n",
      "|      10|2013-07-25 00:00:00|\n",
      "|      11|2013-07-25 00:00:00|\n",
      "|      12|2013-07-25 00:00:00|\n",
      "|      13|2013-07-25 00:00:00|\n",
      "|      14|2013-07-25 00:00:00|\n",
      "|      15|2013-07-25 00:00:00|\n",
      "|      16|2013-07-25 00:00:00|\n",
      "|      17|2013-07-25 00:00:00|\n",
      "|      18|2013-07-25 00:00:00|\n",
      "|      19|2013-07-25 00:00:00|\n",
      "|      20|2013-07-25 00:00:00|\n",
      "+--------+-------------------+\n",
      "only showing top 20 rows\n",
      "\n"
     ]
    }
   ],
   "source": [
    "df1.select('order_id','Order_date').show()"
   ]
  },
  {
   "cell_type": "code",
   "execution_count": 16,
   "metadata": {},
   "outputs": [
    {
     "data": {
      "text/plain": [
       "DataFrame[summary: string, order_id: string, Order_date: string, Customer_id: string, Order_status: string]"
      ]
     },
     "execution_count": 16,
     "metadata": {},
     "output_type": "execute_result"
    }
   ],
   "source": [
    "df1.describe()"
   ]
  },
  {
   "cell_type": "code",
   "execution_count": 17,
   "metadata": {},
   "outputs": [
    {
     "name": "stdout",
     "output_type": "stream",
     "text": [
      "+-------+------------------+-------------------+-----------------+---------------+\n",
      "|summary|          order_id|         Order_date|      Customer_id|   Order_status|\n",
      "+-------+------------------+-------------------+-----------------+---------------+\n",
      "|  count|             68883|              68883|            68883|          68883|\n",
      "|   mean|           34442.0|               null|6216.571098819738|           null|\n",
      "| stddev|19884.953633337947|               null|3586.205241263963|           null|\n",
      "|    min|                 1|2013-07-25 00:00:00|                1|       CANCELED|\n",
      "|    max|              9999|2014-07-24 00:00:00|             9999|SUSPECTED_FRAUD|\n",
      "+-------+------------------+-------------------+-----------------+---------------+\n",
      "\n"
     ]
    }
   ],
   "source": [
    "df1.describe().show()\n",
    "#give the metris about the data"
   ]
  },
  {
   "cell_type": "code",
   "execution_count": null,
   "metadata": {},
   "outputs": [],
   "source": []
  }
 ],
 "metadata": {
  "kernelspec": {
   "display_name": "Python 3",
   "language": "python",
   "name": "python3"
  },
  "language_info": {
   "codemirror_mode": {
    "name": "ipython",
    "version": 3
   },
   "file_extension": ".py",
   "mimetype": "text/x-python",
   "name": "python",
   "nbconvert_exporter": "python",
   "pygments_lexer": "ipython3",
   "version": "3.5.2"
  }
 },
 "nbformat": 4,
 "nbformat_minor": 2
}
